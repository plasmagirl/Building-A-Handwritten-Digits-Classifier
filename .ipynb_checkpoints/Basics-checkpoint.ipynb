{
 "cells": [
  {
   "cell_type": "code",
   "execution_count": 1,
   "metadata": {
    "collapsed": true
   },
   "outputs": [],
   "source": [
    "from IPython.display import display\n",
    "from sklearn.datasets import load_digits\n",
    "import pandas as pd\n",
    "import numpy as np\n",
    "import matplotlib.pyplot as plt\n",
    "%matplotlib inline"
   ]
  },
  {
   "cell_type": "code",
   "execution_count": 2,
   "metadata": {
    "collapsed": false
   },
   "outputs": [
    {
     "name": "stdout",
     "output_type": "stream",
     "text": [
      "<class 'numpy.ndarray'>\n",
      "(1797, 64)\n",
      "dict_keys(['target', 'images', 'target_names', 'DESCR', 'data'])\n"
     ]
    }
   ],
   "source": [
    "train = load_digits()\n",
    "print(type(train.data))\n",
    "print(train.data.shape)\n",
    "print(train.keys())"
   ]
  },
  {
   "cell_type": "code",
   "execution_count": 3,
   "metadata": {
    "collapsed": false
   },
   "outputs": [
    {
     "name": "stdout",
     "output_type": "stream",
     "text": [
      "(1797, 64)\n",
      "(1797,)\n",
      "0    0\n",
      "1    1\n",
      "2    2\n",
      "3    3\n",
      "4    4\n",
      "dtype: int64\n"
     ]
    },
    {
     "data": {
      "text/html": [
       "<div>\n",
       "<style scoped>\n",
       "    .dataframe tbody tr th:only-of-type {\n",
       "        vertical-align: middle;\n",
       "    }\n",
       "\n",
       "    .dataframe tbody tr th {\n",
       "        vertical-align: top;\n",
       "    }\n",
       "\n",
       "    .dataframe thead th {\n",
       "        text-align: right;\n",
       "    }\n",
       "</style>\n",
       "<table border=\"1\" class=\"dataframe\">\n",
       "  <thead>\n",
       "    <tr style=\"text-align: right;\">\n",
       "      <th></th>\n",
       "      <th>0</th>\n",
       "      <th>1</th>\n",
       "      <th>2</th>\n",
       "      <th>3</th>\n",
       "      <th>4</th>\n",
       "      <th>5</th>\n",
       "      <th>6</th>\n",
       "      <th>7</th>\n",
       "      <th>8</th>\n",
       "      <th>9</th>\n",
       "      <th>...</th>\n",
       "      <th>54</th>\n",
       "      <th>55</th>\n",
       "      <th>56</th>\n",
       "      <th>57</th>\n",
       "      <th>58</th>\n",
       "      <th>59</th>\n",
       "      <th>60</th>\n",
       "      <th>61</th>\n",
       "      <th>62</th>\n",
       "      <th>63</th>\n",
       "    </tr>\n",
       "  </thead>\n",
       "  <tbody>\n",
       "    <tr>\n",
       "      <th>0</th>\n",
       "      <td>0.0</td>\n",
       "      <td>0.0</td>\n",
       "      <td>5.0</td>\n",
       "      <td>13.0</td>\n",
       "      <td>9.0</td>\n",
       "      <td>1.0</td>\n",
       "      <td>0.0</td>\n",
       "      <td>0.0</td>\n",
       "      <td>0.0</td>\n",
       "      <td>0.0</td>\n",
       "      <td>...</td>\n",
       "      <td>0.0</td>\n",
       "      <td>0.0</td>\n",
       "      <td>0.0</td>\n",
       "      <td>0.0</td>\n",
       "      <td>6.0</td>\n",
       "      <td>13.0</td>\n",
       "      <td>10.0</td>\n",
       "      <td>0.0</td>\n",
       "      <td>0.0</td>\n",
       "      <td>0.0</td>\n",
       "    </tr>\n",
       "    <tr>\n",
       "      <th>1</th>\n",
       "      <td>0.0</td>\n",
       "      <td>0.0</td>\n",
       "      <td>0.0</td>\n",
       "      <td>12.0</td>\n",
       "      <td>13.0</td>\n",
       "      <td>5.0</td>\n",
       "      <td>0.0</td>\n",
       "      <td>0.0</td>\n",
       "      <td>0.0</td>\n",
       "      <td>0.0</td>\n",
       "      <td>...</td>\n",
       "      <td>0.0</td>\n",
       "      <td>0.0</td>\n",
       "      <td>0.0</td>\n",
       "      <td>0.0</td>\n",
       "      <td>0.0</td>\n",
       "      <td>11.0</td>\n",
       "      <td>16.0</td>\n",
       "      <td>10.0</td>\n",
       "      <td>0.0</td>\n",
       "      <td>0.0</td>\n",
       "    </tr>\n",
       "    <tr>\n",
       "      <th>2</th>\n",
       "      <td>0.0</td>\n",
       "      <td>0.0</td>\n",
       "      <td>0.0</td>\n",
       "      <td>4.0</td>\n",
       "      <td>15.0</td>\n",
       "      <td>12.0</td>\n",
       "      <td>0.0</td>\n",
       "      <td>0.0</td>\n",
       "      <td>0.0</td>\n",
       "      <td>0.0</td>\n",
       "      <td>...</td>\n",
       "      <td>5.0</td>\n",
       "      <td>0.0</td>\n",
       "      <td>0.0</td>\n",
       "      <td>0.0</td>\n",
       "      <td>0.0</td>\n",
       "      <td>3.0</td>\n",
       "      <td>11.0</td>\n",
       "      <td>16.0</td>\n",
       "      <td>9.0</td>\n",
       "      <td>0.0</td>\n",
       "    </tr>\n",
       "    <tr>\n",
       "      <th>3</th>\n",
       "      <td>0.0</td>\n",
       "      <td>0.0</td>\n",
       "      <td>7.0</td>\n",
       "      <td>15.0</td>\n",
       "      <td>13.0</td>\n",
       "      <td>1.0</td>\n",
       "      <td>0.0</td>\n",
       "      <td>0.0</td>\n",
       "      <td>0.0</td>\n",
       "      <td>8.0</td>\n",
       "      <td>...</td>\n",
       "      <td>9.0</td>\n",
       "      <td>0.0</td>\n",
       "      <td>0.0</td>\n",
       "      <td>0.0</td>\n",
       "      <td>7.0</td>\n",
       "      <td>13.0</td>\n",
       "      <td>13.0</td>\n",
       "      <td>9.0</td>\n",
       "      <td>0.0</td>\n",
       "      <td>0.0</td>\n",
       "    </tr>\n",
       "    <tr>\n",
       "      <th>4</th>\n",
       "      <td>0.0</td>\n",
       "      <td>0.0</td>\n",
       "      <td>0.0</td>\n",
       "      <td>1.0</td>\n",
       "      <td>11.0</td>\n",
       "      <td>0.0</td>\n",
       "      <td>0.0</td>\n",
       "      <td>0.0</td>\n",
       "      <td>0.0</td>\n",
       "      <td>0.0</td>\n",
       "      <td>...</td>\n",
       "      <td>0.0</td>\n",
       "      <td>0.0</td>\n",
       "      <td>0.0</td>\n",
       "      <td>0.0</td>\n",
       "      <td>0.0</td>\n",
       "      <td>2.0</td>\n",
       "      <td>16.0</td>\n",
       "      <td>4.0</td>\n",
       "      <td>0.0</td>\n",
       "      <td>0.0</td>\n",
       "    </tr>\n",
       "  </tbody>\n",
       "</table>\n",
       "<p>5 rows × 64 columns</p>\n",
       "</div>"
      ],
      "text/plain": [
       "    0    1    2     3     4     5    6    7    8    9  ...    54   55   56  \\\n",
       "0  0.0  0.0  5.0  13.0   9.0   1.0  0.0  0.0  0.0  0.0 ...   0.0  0.0  0.0   \n",
       "1  0.0  0.0  0.0  12.0  13.0   5.0  0.0  0.0  0.0  0.0 ...   0.0  0.0  0.0   \n",
       "2  0.0  0.0  0.0   4.0  15.0  12.0  0.0  0.0  0.0  0.0 ...   5.0  0.0  0.0   \n",
       "3  0.0  0.0  7.0  15.0  13.0   1.0  0.0  0.0  0.0  8.0 ...   9.0  0.0  0.0   \n",
       "4  0.0  0.0  0.0   1.0  11.0   0.0  0.0  0.0  0.0  0.0 ...   0.0  0.0  0.0   \n",
       "\n",
       "    57   58    59    60    61   62   63  \n",
       "0  0.0  6.0  13.0  10.0   0.0  0.0  0.0  \n",
       "1  0.0  0.0  11.0  16.0  10.0  0.0  0.0  \n",
       "2  0.0  0.0   3.0  11.0  16.0  9.0  0.0  \n",
       "3  0.0  7.0  13.0  13.0   9.0  0.0  0.0  \n",
       "4  0.0  0.0   2.0  16.0   4.0  0.0  0.0  \n",
       "\n",
       "[5 rows x 64 columns]"
      ]
     },
     "execution_count": 3,
     "metadata": {},
     "output_type": "execute_result"
    }
   ],
   "source": [
    "data = pd.DataFrame(train.data[:1797])\n",
    "label = pd.Series(train['target'])\n",
    "print(data.shape)\n",
    "print(label.shape)\n",
    "print(label.head())\n",
    "data.head()"
   ]
  },
  {
   "cell_type": "code",
   "execution_count": 4,
   "metadata": {
    "collapsed": false
   },
   "outputs": [
    {
     "data": {
      "image/png": "[encoded data removed]",
      "text/plain": [
       "<matplotlib.figure.Figure at 0x7f252a01e5f8>"
      ]
     },
     "metadata": {},
     "output_type": "display_data"
    }
   ],
   "source": [
    "fig = plt.figure(figsize=(10,8))\n",
    "\n",
    "row = [0,100,200,300,1000,1100,1200,1300]\n",
    "\n",
    "temp = data.iloc[0].values.reshape(8,8)\n",
    "\n",
    "for i in range(1,9):\n",
    "    ax = plt.subplot(2,4,i)\n",
    "    np_image = data.iloc[row[i-1]].values.reshape(8,8)\n",
    "    plt.imshow(np_image, cmap='gray_r')"
   ]
  },
  {
   "cell_type": "code",
   "execution_count": 5,
   "metadata": {
    "collapsed": true
   },
   "outputs": [],
   "source": [
    "from sklearn.neighbors import KNeighborsClassifier\n",
    "from sklearn.model_selection import KFold\n",
    "\n",
    "def train(train_X, train_y, k):\n",
    "    '''Train using K-nearest neighbor algorithm'''\n",
    "    knn = KNeighborsClassifier(n_neighbors=k)\n",
    "    knn.fit(train_X, train_y)\n",
    "    return knn\n",
    "\n",
    "def test(test_X, test_y, model):\n",
    "    predict = model.predict(test_X)\n",
    "    accuracy = sum(predict == test_y.values)/len(test_y)\n",
    "    #print(accuracy)\n",
    "    return accuracy\n",
    "\n",
    "def cross_validate(data, label, k):\n",
    "    kf = KFold(n_splits=4, shuffle=True, random_state=1)\n",
    "    accuracy_cv = []\n",
    "    for train_index, test_index in kf.split(data):\n",
    "        train_X, test_X = data.iloc[train_index], data.iloc[test_index]\n",
    "        train_y, test_y = label.iloc[train_index], label.iloc[test_index]\n",
    "        #display(train_X.head(3))\n",
    "        #display(test_X.head(3))\n",
    "        model = train(train_X, train_y, k=k)\n",
    "        accuracy = test(test_X, test_y, model)\n",
    "        accuracy_cv.append(accuracy)\n",
    "    return np.mean(accuracy_cv)\n"
   ]
  },
  {
   "cell_type": "code",
   "execution_count": 6,
   "metadata": {
    "collapsed": false
   },
   "outputs": [
    {
     "name": "stdout",
     "output_type": "stream",
     "text": [
      "[0.9827456075228903, 0.9805184360306854, 0.9855283345706509, 0.9849690670626082, 0.9832999257609502, 0.9805159613956941, 0.9821863400148477, 0.9816295471417965, 0.9788468200940361, 0.9782887899034892, 0.9771789161098738, 0.9771764414748825, 0.9755085374907201, 0.9755073001732245, 0.9749517446176689, 0.9738381588715664, 0.9705011135857461, 0.9688307349665924, 0.9693887651571393]\n"
     ]
    }
   ],
   "source": [
    "fold_accuracies = []\n",
    "k = np.arange(1,20)\n",
    "for i in k:\n",
    "    fold_accuracies.append(cross_validate(data, label, i))\n",
    "    \n",
    "print(fold_accuracies)"
   ]
  },
  {
   "cell_type": "code",
   "execution_count": 7,
   "metadata": {
    "collapsed": false
   },
   "outputs": [
    {
     "data": {
      "text/plain": [
       "<matplotlib.text.Text at 0x7f2524cd3e10>"
      ]
     },
     "execution_count": 7,
     "metadata": {},
     "output_type": "execute_result"
    },
    {
     "data": {
      "image/png": "[encoded data removed]",
      "text/plain": [
       "<matplotlib.figure.Figure at 0x7f252a01e1d0>"
      ]
     },
     "metadata": {},
     "output_type": "display_data"
    }
   ],
   "source": [
    "plt.scatter(k, fold_accuracies)\n",
    "plt.xlabel('n_neighbors')\n",
    "plt.ylabel('accuracy')"
   ]
  },
  {
   "cell_type": "code",
   "execution_count": 18,
   "metadata": {
    "collapsed": true
   },
   "outputs": [],
   "source": [
    "from sklearn.neural_network import MLPClassifier\n",
    "\n",
    "def train_nn(train_X, train_y, n_neurons):\n",
    "    mlp = MLPClassifier(hidden_layer_sizes=n_neurons)\n",
    "    mlp.fit(train_X, train_y)\n",
    "    return mlp\n",
    "\n",
    "def test_nn(test_X, test_y, model):\n",
    "    predict = model.predict(test_X)\n",
    "    accuracy = sum(predict == test_y.values)/len(test_y)\n",
    "    return accuracy\n",
    "    \n",
    "def cross_validate_nn(n_neurons, n_splits):\n",
    "    kf = KFold(n_splits, shuffle=True, random_state=1)\n",
    "    accuracy_kfold = []\n",
    "    for train_index, test_index in kf.split(data):\n",
    "        train_X, test_X = data.iloc[train_index], data.iloc[test_index]\n",
    "        train_y, test_y = label.iloc[train_index], label.iloc[test_index]\n",
    "        model = train_nn(train_X, train_y, n_neurons)\n",
    "        accuracy = test_nn(test_X, test_y, model)\n",
    "        accuracy_kfold.append(accuracy)\n",
    "    print(accuracy_kfold)\n",
    "    return np.mean(accuracy_kfold)        "
   ]
  },
  {
   "cell_type": "code",
   "execution_count": 9,
   "metadata": {
    "collapsed": false
   },
   "outputs": [
    {
     "name": "stderr",
     "output_type": "stream",
     "text": [
      "/dataquest/system/env/python3/lib/python3.4/site-packages/sklearn/neural_network/multilayer_perceptron.py:563: ConvergenceWarning:\n",
      "\n",
      "Stochastic Optimizer: Maximum iterations reached and the optimization hasn't converged yet.\n",
      "\n"
     ]
    },
    {
     "name": "stdout",
     "output_type": "stream",
     "text": [
      "[0.9022222222222223, 0.9265033407572383, 0.8485523385300668, 0.9354120267260579]\n",
      "[0.9577777777777777, 0.9487750556792873, 0.9599109131403119, 0.9510022271714922]\n",
      "[0.9666666666666667, 0.9643652561247216, 0.9665924276169265, 0.9599109131403119]\n",
      "[0.9711111111111111, 0.955456570155902, 0.9755011135857461, 0.9665924276169265]\n",
      "[0.9822222222222222, 0.9599109131403119, 0.977728285077951, 0.9665924276169265]\n",
      "[0.9711111111111111, 0.9621380846325167, 0.9821826280623608, 0.9732739420935412]\n"
     ]
    }
   ],
   "source": [
    "neurons = [(8,), (16,), (32,), (64,), (128,), (256,)]\n",
    "accuracy = []\n",
    "for n in neurons:\n",
    "    accuracy_kfold = cross_validate_nn(n,n_splits=4)\n",
    "    accuracy.append(accuracy_kfold)\n",
    "    \n"
   ]
  },
  {
   "cell_type": "code",
   "execution_count": 11,
   "metadata": {
    "collapsed": false
   },
   "outputs": [
    {
     "name": "stdout",
     "output_type": "stream",
     "text": [
      "[0.9031724820588964, 0.9543664934422174, 0.9643838158871567, 0.9671653056174215, 0.971613462014353, 0.9721764414748825]\n"
     ]
    },
    {
     "data": {
      "image/png": "[encoded data removed]",
      "text/plain": [
       "<matplotlib.figure.Figure at 0x7f2524c72ac8>"
      ]
     },
     "metadata": {},
     "output_type": "display_data"
    }
   ],
   "source": [
    "plt.scatter(neurons, accuracy)\n",
    "plt.xlabel('Neuron size in a single hidden layer')\n",
    "plt.ylabel('Accuracy')\n",
    "print(accuracy)"
   ]
  },
  {
   "cell_type": "markdown",
   "metadata": {
    "collapsed": true
   },
   "source": [
    "The performance of the single layer neural network model massively improves with increasing number of neurons. We get an accuracy of 97% with 256 neurons up from 90% with 8 neurons. \n",
    "\n",
    "However, using the k-nearest neighbor algorith gives us an accuracy of 98.5%. There doesn't seem to be any advantage in using the neural network.\n",
    "\n",
    "Accuracy, here, is defined as the correct number of classifications made by the model, when compared to the model."
   ]
  },
  {
   "cell_type": "code",
   "execution_count": 17,
   "metadata": {
    "collapsed": false
   },
   "outputs": [
    {
     "name": "stdout",
     "output_type": "stream",
     "text": [
      "0.9732826033160109\n"
     ]
    }
   ],
   "source": [
    "#Neural Network using 2 hidden layers\n",
    "\n",
    "accuracy_2layers = cross_validate_nn(n_neurons=(64,64), n_splits=4)\n",
    "print(accuracy_2layers)"
   ]
  },
  {
   "cell_type": "markdown",
   "metadata": {},
   "source": [
    "Adding another hidden layer with 64 neurons in both layers does not improve the accuracy by much when compared to 1 layer with 256 neurons. Using more hidden layers could cause overfitting but we are using a 4-fold cross validation method that should limit the overfitting."
   ]
  },
  {
   "cell_type": "code",
   "execution_count": 19,
   "metadata": {
    "collapsed": false
   },
   "outputs": [
    {
     "name": "stderr",
     "output_type": "stream",
     "text": [
      "/dataquest/system/env/python3/lib/python3.4/site-packages/sklearn/neural_network/multilayer_perceptron.py:563: ConvergenceWarning:\n",
      "\n",
      "Stochastic Optimizer: Maximum iterations reached and the optimization hasn't converged yet.\n",
      "\n"
     ]
    },
    {
     "name": "stdout",
     "output_type": "stream",
     "text": [
      "[0.9366666666666666, 0.9166666666666666, 0.9166666666666666, 0.9264214046822743, 0.9264214046822743, 0.9163879598662207]\n",
      "[0.97, 0.9766666666666667, 0.9533333333333334, 0.9632107023411371, 0.979933110367893, 0.9698996655518395]\n",
      "[0.9733333333333334, 0.9866666666666667, 0.9666666666666667, 0.9832775919732442, 0.979933110367893, 0.9698996655518395]\n",
      "[0.9232051282051282, 0.9688405797101449, 0.9766295057599406]\n"
     ]
    }
   ],
   "source": [
    "#3 hidden layers and 6-fold CV\n",
    "\n",
    "neurons = [(10,10,10), \n",
    "           (64, 64, 64),\n",
    "           (128, 128, 128)\n",
    "          ]\n",
    "accuracy_3layers = []\n",
    "for n in neurons:\n",
    "    accuracy = cross_validate_nn(n_neurons=n, n_splits=6)\n",
    "    accuracy_3layers.append(accuracy)\n",
    "    \n",
    "print(accuracy_3layers)    "
   ]
  },
  {
   "cell_type": "code",
   "execution_count": 30,
   "metadata": {
    "collapsed": false
   },
   "outputs": [
    {
     "data": {
      "text/plain": [
       "<matplotlib.text.Text at 0x7f2524ab0a90>"
      ]
     },
     "execution_count": 30,
     "metadata": {},
     "output_type": "execute_result"
    },
    {
     "data": {
      "image/png": "[encoded data removed]",
      "text/plain": [
       "<matplotlib.figure.Figure at 0x7f2524c171d0>"
      ]
     },
     "metadata": {},
     "output_type": "display_data"
    }
   ],
   "source": [
    "x = [n[0] for n in neurons]\n",
    "plt.scatter(x, accuracy_3layers)\n",
    "plt.xlabel('Neuron size in 3 layer model')\n",
    "plt.ylabel('Accuracy')"
   ]
  },
  {
   "cell_type": "markdown",
   "metadata": {},
   "source": [
    "Using 3 hidden layer neural network model with 6-fold cross validation increases our simple accuracy to 98%. Having more layers and more neurons seems to improve the network's performance."
   ]
  },
  {
   "cell_type": "code",
   "execution_count": null,
   "metadata": {
    "collapsed": true
   },
   "outputs": [],
   "source": []
  }
 ],
 "metadata": {
  "anaconda-cloud": {},
  "kernelspec": {
   "display_name": "Python 3",
   "language": "python",
   "name": "python3"
  },
  "language_info": {
   "codemirror_mode": {
    "name": "ipython",
    "version": 3
   },
   "file_extension": ".py",
   "mimetype": "text/x-python",
   "name": "python",
   "nbconvert_exporter": "python",
   "pygments_lexer": "ipython3",
   "version": "3.4.3"
  }
 },
 "nbformat": 4,
 "nbformat_minor": 2
}
